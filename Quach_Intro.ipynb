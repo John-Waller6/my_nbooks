{
 "cells": [
  {
   "cell_type": "markdown",
   "id": "a3d8dbeb-11c1-49f3-a833-54c62cd85dda",
   "metadata": {},
   "source": [
    "# First Notebook"
   ]
  },
  {
   "cell_type": "markdown",
   "id": "304b7b3f-b9d2-4051-9876-9d88445e34d5",
   "metadata": {},
   "source": [
    "## Ken Quach"
   ]
  },
  {
   "cell_type": "code",
   "execution_count": 1,
   "id": "4479b4f6-cf21-4b44-9885-105db25bc348",
   "metadata": {},
   "outputs": [
    {
     "name": "stdout",
     "output_type": "stream",
     "text": [
      "[51, 36, 30, 70, 69, 41, 50, 52, 89, 98, 49, 44, 88, 69, 37, 35, 96, 42, 96, 85, 33, 77, 83, 72, 61, 52, 61, 40, 71, 62, 96, 53, 66, 77, 98, 40, 62, 45, 62, 56]\n"
     ]
    }
   ],
   "source": [
    "import random\n",
    "\n",
    "nums = []\n",
    "numb = 40\n",
    "for x in range(numb):\n",
    "    nums.append(random.randint(30,100))\n",
    "print(nums)"
   ]
  },
  {
   "cell_type": "code",
   "execution_count": 2,
   "id": "ad409c3d-5063-477b-b74c-b2fde777a692",
   "metadata": {},
   "outputs": [
    {
     "name": "stdout",
     "output_type": "stream",
     "text": [
      "30 33 35 36 37 40 40 41 42 44 45 49 50 51 52 52 53 56 61 61 62 62 62 66 69 69 70 71 72 77 77 83 85 88 89 96 96 96 98 98 "
     ]
    }
   ],
   "source": [
    "nums.sort()\n",
    "for x in nums:\n",
    "    print(x, end=\" \")"
   ]
  },
  {
   "cell_type": "markdown",
   "id": "f22b3a48-5e4b-43a1-897a-6d5c956e54b0",
   "metadata": {},
   "source": [
    "## The Sample Mean\n",
    "- Find the sum of all the vaules\n",
    "- Then divide the sum by the number of vaules"
   ]
  },
  {
   "cell_type": "markdown",
   "id": "98800e32-2b13-4a56-be0d-34ef67b4e793",
   "metadata": {},
   "source": [
    "$\\overline{\\chi} = \\frac{\\sum x_i} n$"
   ]
  },
  {
   "cell_type": "code",
   "execution_count": 4,
   "id": "e3684386-8d43-443d-a65e-b95f56acda38",
   "metadata": {},
   "outputs": [
    {
     "name": "stdout",
     "output_type": "stream",
     "text": [
      "sample mean = 62.35\n"
     ]
    }
   ],
   "source": [
    "sample_mean = sum(nums)/len(nums)\n",
    "print(f'sample mean = {sample_mean:.2f}')"
   ]
  },
  {
   "cell_type": "markdown",
   "id": "47460690-19b2-4a14-91c0-4a66421bb594",
   "metadata": {},
   "source": [
    "## The Median\n",
    "\n",
    "[Definition](https://www.ncbi.nlm.nih.gov/books/NBK470533/#:~:text=The%20median%20is%20the%20middle,%5D%5B3%5D%5B4%5D)"
   ]
  },
  {
   "cell_type": "code",
   "execution_count": 5,
   "id": "6d9b9416-a049-4eea-a6b3-1ab01b53f9b3",
   "metadata": {},
   "outputs": [],
   "source": [
    "# If there is an even number of values, the median is the value that is in between the two values that are in the middle."
   ]
  },
  {
   "cell_type": "code",
   "execution_count": 8,
   "id": "91f22c1d-81a9-48d6-9080-f4b66b6ff172",
   "metadata": {},
   "outputs": [
    {
     "name": "stdout",
     "output_type": "stream",
     "text": [
      "Median is 62.0\n"
     ]
    }
   ],
   "source": [
    "median = (nums[len(nums)//2]+nums[len(nums)//2+1])/2\n",
    "print(f'Median is {median:.1f}')"
   ]
  }
 ],
 "metadata": {
  "kernelspec": {
   "display_name": "Python 3 (ipykernel)",
   "language": "python",
   "name": "python3"
  },
  "language_info": {
   "codemirror_mode": {
    "name": "ipython",
    "version": 3
   },
   "file_extension": ".py",
   "mimetype": "text/x-python",
   "name": "python",
   "nbconvert_exporter": "python",
   "pygments_lexer": "ipython3",
   "version": "3.10.9"
  }
 },
 "nbformat": 4,
 "nbformat_minor": 5
}
